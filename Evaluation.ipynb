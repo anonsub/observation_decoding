{
 "cells": [
  {
   "cell_type": "code",
   "execution_count": 1,
   "metadata": {},
   "outputs": [],
   "source": [
    "from meta_planning.parsers import parse_plan\n",
    "from meta_planning.pddl import Plan\n",
    "\n",
    "import numpy as np\n",
    "import glob"
   ]
  },
  {
   "cell_type": "code",
   "execution_count": 5,
   "metadata": {},
   "outputs": [],
   "source": [
    "domain = \"office\"\n",
    "folder = \"plans\"\n",
    "\n",
    "num_plans = len(glob.glob(\"benchmarks/%s/%s/plan-*-SM\" % (domain, folder)))"
   ]
  },
  {
   "cell_type": "code",
   "execution_count": 28,
   "metadata": {},
   "outputs": [
    {
     "name": "stdout",
     "output_type": "stream",
     "text": [
      "0.33 0.33\n",
      "0.00 0.00\n",
      "0.17 0.17\n",
      "0.17 0.31\n",
      "0.28 0.31\n",
      "0.00 0.00\n",
      "0.27 0.20\n",
      "0.39 0.39\n",
      "0.00 0.00\n",
      "0.20 0.27\n",
      "0.42 0.58\n",
      "0.29 0.35\n",
      "0.00 0.00\n",
      "0.00 0.00\n",
      "0.24 0.24\n",
      "0.43 0.43\n",
      "0.33 0.33\n",
      "0.46 0.54\n",
      "0.00 0.00\n",
      "0.26 0.41\n",
      "0.20 0.20\n",
      "0.00 0.31\n",
      "0.17 0.17\n",
      "0.00 0.00\n",
      "0.31 0.17\n",
      "0.14 0.14\n",
      "0.00 0.12\n",
      "0.06 0.00\n",
      "0.00 0.00\n",
      "0.00 0.00\n",
      "0.17 0.66\n",
      "0.00 0.14\n",
      "0.19 0.19\n",
      "0.00 0.00\n",
      "0.36 0.36\n",
      "0.00 0.15\n",
      "0.00 0.00\n",
      "0.12 0.12\n",
      "0.00 0.00\n",
      "0.19 0.19\n",
      "0.39 0.46\n",
      "0.19 0.19\n",
      "0.39 0.39\n",
      "0.15 0.31\n",
      "0.17 0.45\n",
      "0.00 0.27\n",
      "0.00 0.33\n",
      "0.31 0.66\n",
      "0.00 0.43\n",
      "0.36 0.36\n",
      "TOTAL: 0.16 0.23\n"
     ]
    }
   ],
   "source": [
    "SM_total = 0\n",
    "NO_total = 0\n",
    "\n",
    "count = 0\n",
    "\n",
    "for i in range(num_plans):\n",
    "\n",
    "    plan_OR = parse_plan(\"benchmarks/%s/%s/plan-%s-OR\" % (domain, folder, str(i).zfill(3)))\n",
    "\n",
    "    plan_SM = parse_plan(\"benchmarks/%s/%s/plan-%s-SM\" % (domain, folder, str(i).zfill(3)))\n",
    "\n",
    "    plan_NO = parse_plan(\"benchmarks/%s/%s/plan-%s-NO\" % (domain, folder, str(i).zfill(3)))\n",
    "    \n",
    "    if plan_SM.actions == [] or plan_NO.actions == []:\n",
    "        print(\"T/O\")\n",
    "        continue\n",
    "    \n",
    "    \n",
    "    SM_div = plan_OR.diverseness(plan_SM)\n",
    "    NO_div = plan_OR.diverseness(plan_NO)\n",
    "    \n",
    "    \n",
    "    SM_total += SM_div\n",
    "    NO_total += NO_div\n",
    "    \n",
    "    count+=1\n",
    "      \n",
    "    print(\"%.2f %.2f\" % (SM_div, NO_div))\n",
    "    \n",
    "print(\"TOTAL: %.2f %.2f\" % (SM_total/count, NO_total/count))\n"
   ]
  }
 ],
 "metadata": {
  "kernelspec": {
   "display_name": "meta-planning",
   "language": "python",
   "name": "meta-planning"
  },
  "language_info": {
   "codemirror_mode": {
    "name": "ipython",
    "version": 3
   },
   "file_extension": ".py",
   "mimetype": "text/x-python",
   "name": "python",
   "nbconvert_exporter": "python",
   "pygments_lexer": "ipython3",
   "version": "3.6.8"
  }
 },
 "nbformat": 4,
 "nbformat_minor": 2
}
